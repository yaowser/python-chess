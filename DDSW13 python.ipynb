{
 "cells": [
  {
   "cell_type": "code",
   "execution_count": 1,
   "metadata": {
    "collapsed": false
   },
   "outputs": [
    {
     "name": "stdout",
     "output_type": "stream",
     "text": [
      "hello world\n"
     ]
    }
   ],
   "source": [
    "print(\"hello world\")"
   ]
  },
  {
   "cell_type": "code",
   "execution_count": 2,
   "metadata": {
    "collapsed": false
   },
   "outputs": [
    {
     "ename": "NameError",
     "evalue": "name 'yoo' is not defined",
     "output_type": "error",
     "traceback": [
      "\u001b[0;31m---------------------------------------------------------------------------\u001b[0m",
      "\u001b[0;31mNameError\u001b[0m                                 Traceback (most recent call last)",
      "\u001b[0;32m<ipython-input-2-cf92a1f29bb7>\u001b[0m in \u001b[0;36m<module>\u001b[0;34m()\u001b[0m\n\u001b[0;32m----> 1\u001b[0;31m \u001b[0myoo\u001b[0m\u001b[1;33m\u001b[0m\u001b[0m\n\u001b[0m",
      "\u001b[0;31mNameError\u001b[0m: name 'yoo' is not defined"
     ]
    }
   ],
   "source": [
    "yoo"
   ]
  },
  {
   "cell_type": "code",
   "execution_count": 10,
   "metadata": {
    "collapsed": false
   },
   "outputs": [
    {
     "name": "stdout",
     "output_type": "stream",
     "text": [
      "<class 'int'>\n",
      "<class 'int'>\n",
      "<class 'float'>\n",
      "<class 'bool'>\n",
      "True\n",
      "False\n"
     ]
    }
   ],
   "source": [
    "int_val = 8\n",
    "long_val = 23423423235\n",
    "float_val = 2.0\n",
    "bool_val = True\n",
    "print (type(int_val))\n",
    "print (type(long_val))\n",
    "print (type(float_val))\n",
    "print (type(bool_val))\n",
    "print(isinstance(float_val,float))\n",
    "print(isinstance(float_val,int))"
   ]
  },
  {
   "cell_type": "code",
   "execution_count": 11,
   "metadata": {
    "collapsed": false
   },
   "outputs": [
    {
     "name": "stdout",
     "output_type": "stream",
     "text": [
      "<class 'int'>\n",
      "<class 'float'>\n",
      "<class 'int'>\n"
     ]
    }
   ],
   "source": [
    "a=50\n",
    "b=2.0\n",
    "c=2**32+1\n",
    "print (type(a))\n",
    "print (type(b))\n",
    "print (type(c))"
   ]
  },
  {
   "cell_type": "code",
   "execution_count": 16,
   "metadata": {
    "collapsed": false
   },
   "outputs": [
    {
     "name": "stdout",
     "output_type": "stream",
     "text": [
      "<class 'float'>\n",
      "False\n",
      "False\n",
      "True\n",
      "8.0\n",
      "5\n",
      "81\n",
      "2.5\n"
     ]
    },
    {
     "ename": "ZeroDivisionError",
     "evalue": "division by zero",
     "output_type": "error",
     "traceback": [
      "\u001b[0;31m---------------------------------------------------------------------------\u001b[0m",
      "\u001b[0;31mZeroDivisionError\u001b[0m                         Traceback (most recent call last)",
      "\u001b[0;32m<ipython-input-16-ff1a9e21d26d>\u001b[0m in \u001b[0;36m<module>\u001b[0;34m()\u001b[0m\n\u001b[1;32m      7\u001b[0m \u001b[0mprint\u001b[0m \u001b[1;33m(\u001b[0m\u001b[1;36m3\u001b[0m\u001b[1;33m**\u001b[0m\u001b[1;36m4\u001b[0m\u001b[1;33m)\u001b[0m\u001b[1;33m\u001b[0m\u001b[0m\n\u001b[1;32m      8\u001b[0m \u001b[0mprint\u001b[0m \u001b[1;33m(\u001b[0m\u001b[1;36m5\u001b[0m\u001b[1;33m/\u001b[0m\u001b[1;36m2\u001b[0m\u001b[1;33m)\u001b[0m\u001b[1;33m\u001b[0m\u001b[0m\n\u001b[0;32m----> 9\u001b[0;31m \u001b[0mprint\u001b[0m \u001b[1;33m(\u001b[0m\u001b[1;36m6\u001b[0m\u001b[1;33m/\u001b[0m\u001b[1;36m0\u001b[0m\u001b[1;33m)\u001b[0m\u001b[1;33m\u001b[0m\u001b[0m\n\u001b[0m",
      "\u001b[0;31mZeroDivisionError\u001b[0m: division by zero"
     ]
    }
   ],
   "source": [
    "print(type(8/3))\n",
    "print (True and False)\n",
    "print (8 == 3 ) \n",
    "print (5 <= 6)\n",
    "print (2.0*4.0 )\n",
    "print (65%6 )\n",
    "print (3**4) \n",
    "print (5/2) \n",
    "print (6/0) "
   ]
  },
  {
   "cell_type": "code",
   "execution_count": 34,
   "metadata": {
    "collapsed": false
   },
   "outputs": [
    {
     "name": "stdout",
     "output_type": "stream",
     "text": [
      "\n",
      "string example\n",
      "yooo fdfnasf\n",
      "yasdf\n",
      "asdfsdf\n",
      "asdf\n",
      "sad\n",
      "fdf\n",
      "\n",
      "yasdfasdfsdfasdfsadfdf\n",
      "y\n",
      "df\n",
      "\n",
      "\n",
      "\n",
      "\n",
      "fdf\n",
      "\n",
      "yasdf\n",
      "asdfsdf\n",
      "asdf\n",
      "sad\n",
      "fdf\n",
      "\n",
      "yasdf\n",
      "asdfsdf\n",
      "asdf\n",
      "sad\n",
      "fdf\n",
      "yasdf\n",
      "asdfsdf\n",
      "asdf\n",
      "sad\n",
      "fdf\n",
      "\n",
      "True\n",
      "Eric\n",
      "yasdf\n",
      "asdfsdf\n",
      "asdf\n",
      "sad\n",
      "fdf\n",
      "\n",
      "YASDF\n",
      "ASDFSDF\n",
      "ASDF\n",
      "SAD\n",
      "FDF\n",
      "\n",
      "['this', ' is', ' separated', ' by', ' commas']\n"
     ]
    }
   ],
   "source": [
    "print(\"\\nstring example\")\n",
    "stringval='yooo fdfnasf'\n",
    "print(stringval)\n",
    "stringvallong='''yasdf\n",
    "asdfsdf\n",
    "asdf\n",
    "sad\n",
    "fdf\n",
    "'''\n",
    "print(stringvallong)\n",
    "stringvalnah='''yasdf\\\n",
    "asdfsdf\\\n",
    "asdf\\\n",
    "sad\\\n",
    "fdf\\\n",
    "'''\n",
    "print(stringvalnah)\n",
    "print (stringvallong[0]) \n",
    "print (stringvallong[3:6] )\n",
    "print (stringvallong[-1] )\n",
    "print (stringvallong[-5:] )\n",
    "print (stringvallong[0:5] + stringvallong[5:])\n",
    "print (stringvallong*2)\n",
    "print ('Python' > 'Java')\n",
    "print (\"eric\".capitalize())\n",
    "print (stringvallong.lower())\n",
    "print (stringvallong.upper())\n",
    "print (\"this, is, separated, by, commas\".split(','))"
   ]
  },
  {
   "cell_type": "code",
   "execution_count": 36,
   "metadata": {
    "collapsed": false
   },
   "outputs": [
    {
     "name": "stdout",
     "output_type": "stream",
     "text": [
      "abase \n",
      "tab'\n"
     ]
    }
   ],
   "source": [
    "a = 'databases are great!'\n",
    "b = \"'databases are great'\"\n",
    "print(a[3:8]+a[9:10])\n",
    "print(b[3:6]+b[-1])"
   ]
  },
  {
   "cell_type": "code",
   "execution_count": 44,
   "metadata": {
    "collapsed": false
   },
   "outputs": [
    {
     "name": "stdout",
     "output_type": "stream",
     "text": [
      "[45, 67, 'not a number', 'A string, appended as a new element in the list']\n",
      "A string, appended as a new element in the list\n",
      "['not a number', 'A string, appended as a new element in the list']\n",
      "(45, 67, 'not a number')\n",
      "not a number\n"
     ]
    }
   ],
   "source": [
    "a_list = [45, 67, \"not a number\"]\n",
    "a_list.append(\"A string, appended as a new element in the list\")\n",
    "print (a_list)\n",
    "print (a_list[-1])\n",
    "print (a_list[-2:])\n",
    "a_tuple = 45, 67, 'not a number'\n",
    "print(a_tuple)\n",
    "print (a_tuple[2])"
   ]
  },
  {
   "cell_type": "code",
   "execution_count": 47,
   "metadata": {
    "collapsed": false
   },
   "outputs": [
    {
     "name": "stdout",
     "output_type": "stream",
     "text": [
      "['a', 'o', 'lemon', 'lemon', 'coco']\n"
     ]
    }
   ],
   "source": [
    "fruit=['a','o','l','p','t']\n",
    "fruit.pop()\n",
    "fruit.pop()\n",
    "fruit.pop()\n",
    "fruit.insert(2,'lemon')\n",
    "fruit.insert(2,'lemon')\n",
    "fruit.append('coco')\n",
    "print(fruit)"
   ]
  },
  {
   "cell_type": "code",
   "execution_count": 59,
   "metadata": {
    "collapsed": false
   },
   "outputs": [
    {
     "name": "stdout",
     "output_type": "stream",
     "text": [
      "{'pear', 'orange', 'banana', 'apple'}\n",
      "True\n",
      "False\n",
      "{'!', 'd', 'c', 'a', 'r', 'b'}\n",
      "{'d', '!', 'b', 'r'}\n",
      "{'c', 'a'}\n",
      "{'m', 'r', '!', 'd', 'z', 'l', 'b'}\n"
     ]
    }
   ],
   "source": [
    "basket = ['apple', 'orange', 'apple', 'pear', 'orange', 'banana']\n",
    "fruit = set(basket)\n",
    "print(fruit)\n",
    "print ('orange' in fruit)\n",
    "print ('ayye' in fruit)\n",
    "#a = set((45, 'eric', [4.0, 5,6]))\n",
    "\n",
    "a = set('abracadabra')\n",
    "b = set('alacazam')\n",
    "a.add('!') \n",
    "print (a)\n",
    "print (a-b) \n",
    "print (a&b) \n",
    "print (a^b)\n",
    "a_immutable = frozenset(a)\n",
    "#a_immutable.add('e') "
   ]
  },
  {
   "cell_type": "code",
   "execution_count": 61,
   "metadata": {
    "collapsed": false
   },
   "outputs": [
    {
     "name": "stdout",
     "output_type": "stream",
     "text": [
      "{'t'}\n"
     ]
    }
   ],
   "source": [
    "fruit=set(['a','o','l','p','t'])\n",
    "fruit&=set(['t','le','pa'])\n",
    "print(fruit)\n"
   ]
  },
  {
   "cell_type": "code",
   "execution_count": 66,
   "metadata": {
    "collapsed": false,
    "scrolled": true
   },
   "outputs": [
    {
     "name": "stdout",
     "output_type": "stream",
     "text": [
      "{'dog': 4, 'cat': 4, 'human': 2}\n",
      "4\n",
      "2\n",
      "{'dog': 4, 'human': 'two', 'bird': 'two and some wings', 45: 'a key that is not a string'}\n"
     ]
    }
   ],
   "source": [
    "num_legs = {'dog': 4, 'cat': 4, 'human': 2}\n",
    "print (num_legs)\n",
    "print (num_legs ['dog']  )\n",
    "print (num_legs ['human']  )\n",
    "num_legs['human'] = 'two'\n",
    "num_legs['bird'] = 'two and some wings'\n",
    "num_legs[45] = 'a key that is not a string'\n",
    "del num_legs ['cat']\n",
    "\n",
    "print (num_legs)"
   ]
  },
  {
   "cell_type": "code",
   "execution_count": 74,
   "metadata": {
    "collapsed": false
   },
   "outputs": [
    {
     "name": "stdout",
     "output_type": "stream",
     "text": [
      "{frozenset({'k', 'n'}): 'as', None: 'as'}\n"
     ]
    }
   ],
   "source": [
    "a=['k','n']\n",
    "b=frozenset(['k','n'])\n",
    "c=None\n",
    "dic={}\n",
    "#dic[a]='as'\n",
    "dic[b]='as'\n",
    "dic[c]='as'\n",
    "print(dic)"
   ]
  },
  {
   "cell_type": "code",
   "execution_count": 102,
   "metadata": {
    "collapsed": false
   },
   "outputs": [
    {
     "name": "stdout",
     "output_type": "stream",
     "text": [
      "0\n",
      "1\n",
      "b\n"
     ]
    }
   ],
   "source": [
    "import random\n",
    "val = 0\n",
    "for i in range(0, random.randint(1, 10) ):\n",
    "    val+=i\n",
    "    print(i)\n",
    "    if val>20:\n",
    "        print('leave')\n",
    "        break\n",
    "else:\n",
    "    print (\"b\")\n",
    "    "
   ]
  },
  {
   "cell_type": "code",
   "execution_count": 105,
   "metadata": {
    "collapsed": false
   },
   "outputs": [
    {
     "name": "stdout",
     "output_type": "stream",
     "text": [
      "\n",
      "for loop output:\n",
      "DataMining <class 'str'>\n",
      "8 <class 'int'>\n",
      "23423423235 <class 'int'>\n",
      "2.0 <class 'float'>\n",
      "True <class 'bool'>\n"
     ]
    }
   ],
   "source": [
    "print (\"\\nfor loop output:\")\n",
    "list_example = [int_val, long_val, float_val, bool_val]\n",
    "list_example.insert(0, \"DataMining\")\n",
    "for val in list_example:\n",
    "     print (str(val) + ' ' + str(type(val)))\n"
   ]
  },
  {
   "cell_type": "code",
   "execution_count": 106,
   "metadata": {
    "collapsed": false
   },
   "outputs": [
    {
     "name": "stdout",
     "output_type": "stream",
     "text": [
      "DataMining \t is at index \t 0\n",
      "8 \t is at index \t 1\n",
      "23423423235 \t is at index \t 2\n",
      "2.0 \t is at index \t 3\n",
      "True \t is at index \t 4\n"
     ]
    }
   ],
   "source": [
    "for index, val in enumerate(list_example):\n",
    "    print (str(val), '\\t is at index \\t', index)"
   ]
  },
  {
   "cell_type": "code",
   "execution_count": 107,
   "metadata": {
    "collapsed": false
   },
   "outputs": [
    {
     "name": "stdout",
     "output_type": "stream",
     "text": [
      "What is your name? It is lancelot.\n",
      "What is your the holy grail? It is quest.\n",
      "What is your blue? It is favorite color.\n"
     ]
    }
   ],
   "source": [
    "questions = ['name', 'the holy grail', 'blue']\n",
    "answers = ['lancelot', 'quest', 'favorite color']\n",
    "for q,a in zip(questions, answers):\n",
    "     print ('What is your %s? It is %s.' % (q,a))"
   ]
  },
  {
   "cell_type": "code",
   "execution_count": 110,
   "metadata": {
    "collapsed": false
   },
   "outputs": [
    {
     "name": "stdout",
     "output_type": "stream",
     "text": [
      "dict_keys(['dog', 'human', 'bird', 45])\n",
      "dog => 4\n",
      "human => two\n",
      "bird => two and some wings\n",
      "45 => a key that is not a string\n"
     ]
    }
   ],
   "source": [
    "print (num_legs.keys())\n",
    "for k in num_legs.keys():\n",
    "     print (k, \"=>\", num_legs[k])"
   ]
  },
  {
   "cell_type": "code",
   "execution_count": 112,
   "metadata": {
    "collapsed": false
   },
   "outputs": [
    {
     "ename": "AttributeError",
     "evalue": "'dict' object has no attribute 'iter_items'",
     "output_type": "error",
     "traceback": [
      "\u001b[0;31m---------------------------------------------------------------------------\u001b[0m",
      "\u001b[0;31mAttributeError\u001b[0m                            Traceback (most recent call last)",
      "\u001b[0;32m<ipython-input-112-6949018b0f74>\u001b[0m in \u001b[0;36m<module>\u001b[0;34m()\u001b[0m\n\u001b[0;32m----> 1\u001b[0;31m \u001b[1;32mfor\u001b[0m \u001b[0mk\u001b[0m\u001b[1;33m,\u001b[0m \u001b[0mv\u001b[0m \u001b[1;32min\u001b[0m \u001b[0mnum_legs\u001b[0m\u001b[1;33m.\u001b[0m\u001b[0miter_items\u001b[0m\u001b[1;33m(\u001b[0m\u001b[1;33m)\u001b[0m\u001b[1;33m:\u001b[0m\u001b[1;33m\u001b[0m\u001b[0m\n\u001b[0m\u001b[1;32m      2\u001b[0m      \u001b[0mprint\u001b[0m \u001b[1;33m(\u001b[0m\u001b[0mk\u001b[0m\u001b[1;33m,\u001b[0m \u001b[1;34m\"=>\"\u001b[0m\u001b[1;33m,\u001b[0m \u001b[0mv\u001b[0m\u001b[1;33m)\u001b[0m\u001b[1;33m\u001b[0m\u001b[0m\n",
      "\u001b[0;31mAttributeError\u001b[0m: 'dict' object has no attribute 'iter_items'"
     ]
    }
   ],
   "source": [
    "for k, v in num_legs.iteritems():\n",
    "     print (k, \"=>\", v)"
   ]
  },
  {
   "cell_type": "code",
   "execution_count": 116,
   "metadata": {
    "collapsed": false
   },
   "outputs": [
    {
     "name": "stdout",
     "output_type": "stream",
     "text": [
      "human\n"
     ]
    },
    {
     "ename": "AttributeError",
     "evalue": "'dict' object has no attribute 'has_key'",
     "output_type": "error",
     "traceback": [
      "\u001b[0;31m---------------------------------------------------------------------------\u001b[0m",
      "\u001b[0;31mAttributeError\u001b[0m                            Traceback (most recent call last)",
      "\u001b[0;32m<ipython-input-116-3890ec9c6bdf>\u001b[0m in \u001b[0;36m<module>\u001b[0;34m()\u001b[0m\n\u001b[1;32m      1\u001b[0m \u001b[1;32mfor\u001b[0m \u001b[0mt\u001b[0m \u001b[1;32min\u001b[0m \u001b[1;33m[\u001b[0m \u001b[1;34m'human'\u001b[0m\u001b[1;33m,\u001b[0m \u001b[1;34m'beast'\u001b[0m\u001b[1;33m,\u001b[0m \u001b[1;34m'cat'\u001b[0m\u001b[1;33m,\u001b[0m \u001b[1;34m'dog'\u001b[0m\u001b[1;33m,\u001b[0m \u001b[1;34m'45'\u001b[0m \u001b[1;33m]\u001b[0m\u001b[1;33m:\u001b[0m\u001b[1;33m\u001b[0m\u001b[0m\n\u001b[1;32m      2\u001b[0m      \u001b[0mprint\u001b[0m \u001b[1;33m(\u001b[0m\u001b[0mt\u001b[0m\u001b[1;33m)\u001b[0m\u001b[1;33m,\u001b[0m\u001b[1;33m\u001b[0m\u001b[0m\n\u001b[0;32m----> 3\u001b[0;31m      \u001b[1;32mif\u001b[0m \u001b[0mnum_legs\u001b[0m\u001b[1;33m.\u001b[0m\u001b[0mhas_key\u001b[0m\u001b[1;33m(\u001b[0m\u001b[0mt\u001b[0m\u001b[1;33m)\u001b[0m\u001b[1;33m:\u001b[0m\u001b[1;33m\u001b[0m\u001b[0m\n\u001b[0m\u001b[1;32m      4\u001b[0m           \u001b[0mprint\u001b[0m \u001b[1;33m(\u001b[0m\u001b[1;34m'=>'\u001b[0m\u001b[1;33m,\u001b[0m \u001b[0mnum_legs\u001b[0m\u001b[1;33m[\u001b[0m\u001b[0mt\u001b[0m\u001b[1;33m]\u001b[0m\u001b[1;33m)\u001b[0m\u001b[1;33m\u001b[0m\u001b[0m\n\u001b[1;32m      5\u001b[0m      \u001b[1;32melse\u001b[0m\u001b[1;33m:\u001b[0m\u001b[1;33m\u001b[0m\u001b[0m\n",
      "\u001b[0;31mAttributeError\u001b[0m: 'dict' object has no attribute 'has_key'"
     ]
    }
   ],
   "source": [
    "#12.4\n",
    "for t in [ 'human', 'beast', 'cat', 'dog', '45' ]:\n",
    "     print (t),\n",
    "     if num_legs.has_key(t):\n",
    "          print ('=>', num_legs[t])\n",
    "     else:\n",
    "          print ('is not present.')"
   ]
  },
  {
   "cell_type": "code",
   "execution_count": 117,
   "metadata": {
    "collapsed": false
   },
   "outputs": [
    {
     "name": "stdout",
     "output_type": "stream",
     "text": [
      "10\n"
     ]
    }
   ],
   "source": [
    "val =0\n",
    "for i in range(5):\n",
    "    val+=2\n",
    "    if val>9:\n",
    "        break\n",
    "else:\n",
    "    val = None\n",
    "print(val)"
   ]
  },
  {
   "cell_type": "code",
   "execution_count": 124,
   "metadata": {
    "collapsed": false
   },
   "outputs": [
    {
     "name": "stdout",
     "output_type": "stream",
     "text": [
      "[0, 1, 16, 81, 256, 625, 1296, 2401, 4096, 6561]\n",
      "['NAME', 'QUEST', 'FAVORITE COLOR']\n",
      "{0: 0, 1: 1, 2: 16, 3: 81, 4: 256, 5: 625, 6: 1296, 7: 2401, 8: 4096, 9: 6561}\n",
      "260\n"
     ]
    }
   ],
   "source": [
    "times_four = [x**4 for x in range(10)]\n",
    "print (times_four)\n",
    "questions = ['name', 'quest', 'favorite color']\n",
    "quest_upper = [x.upper() for x in questions]\n",
    "print (quest_upper)\n",
    "times_four = {x:x**4 for x in range(10)}\n",
    "print (times_four)\n",
    "x_array = [10, 20, 30]\n",
    "y_array = [7, 5, 3]\n",
    "print (sum(x*y for x,y in zip(x_array, y_array)))"
   ]
  },
  {
   "cell_type": "code",
   "execution_count": 125,
   "metadata": {
    "collapsed": false
   },
   "outputs": [
    {
     "name": "stdout",
     "output_type": "stream",
     "text": [
      "['d', 'a', 't', 'a', 'b', 'a', 's', 'e', 's']\n"
     ]
    }
   ],
   "source": [
    "list=[x for x in 'databases']\n",
    "print(list)"
   ]
  },
  {
   "cell_type": "code",
   "execution_count": 131,
   "metadata": {
    "collapsed": false
   },
   "outputs": [
    {
     "name": "stdout",
     "output_type": "stream",
     "text": [
      "['LIFO', 0, 1, 2, 3, 4]\n",
      "4\n",
      "['LIFO', 0, 1, 2, 3]\n",
      "deque([9, 8, 7, 6, 5, 'FIFO'])\n",
      "FIFO\n",
      "deque([9, 8, 7, 6, 5])\n"
     ]
    }
   ],
   "source": [
    "list_example = []\n",
    "list_example.append('LIFO')\n",
    "for i in range(0, 5):\n",
    "     list_example.append(i)\n",
    "print (list_example)\n",
    "val = list_example.pop()\n",
    "print(val)\n",
    "print (list_example)\n",
    "from collections import deque \n",
    "q_example = deque()\n",
    "q_example.appendleft(\"FIFO\")\n",
    "for i in range(5, 10):\n",
    "     q_example.appendleft(i)\n",
    "print( q_example)\n",
    "val = q_example.pop()\n",
    "print(val)\n",
    "print(q_example)\n",
    "\n",
    "#######################################how is this happening"
   ]
  },
  {
   "cell_type": "code",
   "execution_count": 141,
   "metadata": {
    "collapsed": false
   },
   "outputs": [
    {
     "name": "stdout",
     "output_type": "stream",
     "text": [
      "a is true\n",
      "b is false\n",
      "I. Everybody is a five!\n",
      "II. These are the same object!\n",
      "III. Wish we had the same objects...\n",
      "IV. Everybody is a five!\n",
      "IV. Wish we had fives...\n",
      "VI. Got through nested conditional\n"
     ]
    }
   ],
   "source": [
    "a, b = True, False\n",
    "if a:\n",
    "     print (\"a is true\")\n",
    "elif a or b:\n",
    "     print (\"b is true\")\n",
    "else:\n",
    "     print (\"neither a or b is true\")\n",
    "val = \"b is true\" if b else \"b is false\"\n",
    "print(val)\n",
    "\n",
    "a=5\n",
    "b=5\n",
    "if a==b:\n",
    "     print (\"I. Everybody is a five!\")\n",
    "else:\n",
    "     print (\"I. Wish we had fives...\")\n",
    "        \n",
    "        \n",
    "a=327676\n",
    "b=a\n",
    "if a is b:\n",
    "     print (\"II. These are the same object!\")\n",
    "else:\n",
    "     print (\"II. Wish we had the same objects...\")\n",
    "        \n",
    "a=327676\n",
    "b=327675+1\n",
    "if a is b:\n",
    "     print (\"III. These are the same object!\")\n",
    "else:\n",
    "     print (\"III. Wish we had the same objects...\")\n",
    "        \n",
    "a=5\n",
    "b=4+1\n",
    "if a is b:\n",
    "     print (\"IV. Everybody is a five!\")\n",
    "else:\n",
    "     print (\"IV. Wish we had fives...\")\n",
    "        \n",
    "b=b*2.0\n",
    "b=b/2.0\n",
    "if a is b:\n",
    "     print (\"IV. Everybody is a five!\")\n",
    "else:\n",
    "     print (\"IV. Wish we had fives...\")\n",
    "if 5 < 8 < 6:\n",
    "    print ('VI. How did we get here?')\n",
    "elif 4 < 18 < 22: \n",
    "    print ('VI. Got through nested conditional')"
   ]
  },
  {
   "cell_type": "code",
   "execution_count": 142,
   "metadata": {
    "collapsed": false
   },
   "outputs": [
    {
     "name": "stdout",
     "output_type": "stream",
     "text": [
      "True False\n",
      "10 10 True True\n",
      "567 567 False\n"
     ]
    }
   ],
   "source": [
    "a=3<7<32\n",
    "b='six'<'seven'\n",
    "print(a,b)\n",
    "x=10\n",
    "y=9+1\n",
    "c=(x==y)\n",
    "d=(x is y)\n",
    "print(x,y,c,d)\n",
    "x=567\n",
    "y=566+1\n",
    "e=x is y\n",
    "print(x,y,e)"
   ]
  },
  {
   "cell_type": "code",
   "execution_count": 143,
   "metadata": {
    "collapsed": false
   },
   "outputs": [
    {
     "name": "stdout",
     "output_type": "stream",
     "text": [
      "The Zen of Python, by Tim Peters\n",
      "\n",
      "Beautiful is better than ugly.\n",
      "Explicit is better than implicit.\n",
      "Simple is better than complex.\n",
      "Complex is better than complicated.\n",
      "Flat is better than nested.\n",
      "Sparse is better than dense.\n",
      "Readability counts.\n",
      "Special cases aren't special enough to break the rules.\n",
      "Although practicality beats purity.\n",
      "Errors should never pass silently.\n",
      "Unless explicitly silenced.\n",
      "In the face of ambiguity, refuse the temptation to guess.\n",
      "There should be one-- and preferably only one --obvious way to do it.\n",
      "Although that way may not be obvious at first unless you're Dutch.\n",
      "Now is better than never.\n",
      "Although never is often better than *right* now.\n",
      "If the implementation is hard to explain, it's a bad idea.\n",
      "If the implementation is easy to explain, it may be a good idea.\n",
      "Namespaces are one honking great idea -- let's do more of those!\n"
     ]
    }
   ],
   "source": [
    "import this"
   ]
  },
  {
   "cell_type": "code",
   "execution_count": 153,
   "metadata": {
    "collapsed": false
   },
   "outputs": [
    {
     "name": "stdout",
     "output_type": "stream",
     "text": [
      "upper case\n",
      "data mining\n",
      "[1, 2, 3, 4, 5]\n",
      "[1, 2, 3, 4, 5]\n",
      "[1, 2, 3, 4, 5]\n",
      "cool X value\n",
      "[1, 2, 3, 4, 5]\n",
      "cool X value\n",
      "cool Y value\n",
      "(4, 1024)\n"
     ]
    }
   ],
   "source": [
    "def make_strings_lowercase(str_input):\n",
    "    assert isinstance(str_input, str) \n",
    "    return str_input.lower()\n",
    "print( make_strings_lowercase(\"UPPER CASE\"))\n",
    "print( make_strings_lowercase(\"Data Mining\"))\n",
    "\n",
    "def show_data(data):\n",
    "    print (data)\n",
    "\n",
    "some_data = [1, 2, 3, 4, 5]\n",
    "show_data(some_data)\n",
    "\n",
    "def show_data(data, x=None, y=None):\n",
    "    # print the data\n",
    "    print (data)\n",
    "    if x is not None:\n",
    "        print (x)\n",
    "    if y is not None:\n",
    "        print (y)\n",
    "\n",
    "some_data = [1, 2, 3, 4, 5]\n",
    "show_data(some_data);\n",
    "show_data(some_data, x='cool X value')\n",
    "show_data(some_data, y='cool Y value', x='cool X value')\n",
    "\n",
    "def get_square_and_tenth_power(x):\n",
    "    return x**2, x**10\n",
    "print (get_square_and_tenth_power(2))"
   ]
  },
  {
   "cell_type": "code",
   "execution_count": 156,
   "metadata": {
    "collapsed": false
   },
   "outputs": [
    {
     "name": "stdout",
     "output_type": "stream",
     "text": [
      "This is a long string meant to be so long that the memory for it is not cached by python\n",
      "True\n",
      "False\n"
     ]
    }
   ],
   "source": [
    "class BodyPart(object):\n",
    "    # this is a class variable, shared across all instances\n",
    "    def __init__(self,name):\n",
    "        self.name = name \n",
    "        # the name attribute is unique to each instance of the class\n",
    "    kind = \"This is a long string meant to be so long that the memory for it is not cached by python\"\n",
    "\n",
    "\n",
    "# now define a class that subclasses from the defined BodyPart class\n",
    "class Heart(BodyPart):\n",
    "    def __init__(self,rate=60,units=\"minute\"):\n",
    "        self.rate = rate\n",
    "        self.units = units\n",
    "        super(Heart,self).__init__(\"Heart\")\n",
    "        \n",
    "    def print_rate(self):\n",
    "        print (\" name: \" + str(self.name) +\n",
    "        \" has \" + str(self.rate) +\n",
    "        \" beats per \" + self.units)\n",
    "\n",
    "        \n",
    "my_heart = Heart(1,\"second\")\n",
    "generic_part = BodyPart(\"Foot\")\n",
    "print (my_heart.kind)\n",
    "print (my_heart.kind is generic_part.kind)\n",
    "\n",
    "a = \"This is a long string meant to be so long that the memory for it is not cached by python\"\n",
    "b = \"This is a long string meant to be so long that the memory for it is not cached by python\"\n",
    "print (a is b)"
   ]
  },
  {
   "cell_type": "code",
   "execution_count": 161,
   "metadata": {
    "collapsed": false
   },
   "outputs": [
    {
     "name": "stdout",
     "output_type": "stream",
     "text": [
      "4 1\n",
      "A: 2.5\n",
      "B: 2.0\n",
      "C: mike\n"
     ]
    },
    {
     "ename": "NameError",
     "evalue": "name 'detail' is not defined",
     "output_type": "error",
     "traceback": [
      "\u001b[0;31m---------------------------------------------------------------------------\u001b[0m",
      "\u001b[0;31mTypeError\u001b[0m                                 Traceback (most recent call last)",
      "\u001b[0;32m<ipython-input-161-f26b5b455bf1>\u001b[0m in \u001b[0;36m<module>\u001b[0;34m()\u001b[0m\n\u001b[1;32m     23\u001b[0m     \u001b[0mprint\u001b[0m \u001b[1;33m(\u001b[0m\u001b[1;34m\"C:\"\u001b[0m\u001b[1;33m,\u001b[0m \u001b[0mk\u001b[0m\u001b[1;33m)\u001b[0m\u001b[1;33m\u001b[0m\u001b[0m\n\u001b[0;32m---> 24\u001b[0;31m     \u001b[0mprint\u001b[0m \u001b[1;33m(\u001b[0m\u001b[1;34m\"D:\"\u001b[0m\u001b[1;33m,\u001b[0m \u001b[0msome\u001b[0m\u001b[1;33m[\u001b[0m\u001b[0mk\u001b[0m\u001b[1;33m]\u001b[0m\u001b[1;33m)\u001b[0m\u001b[1;33m\u001b[0m\u001b[0m\n\u001b[0m\u001b[1;32m     25\u001b[0m \u001b[1;31m# This is the catch block.\u001b[0m\u001b[1;33m\u001b[0m\u001b[1;33m\u001b[0m\u001b[0m\n",
      "\u001b[0;31mTypeError\u001b[0m: list indices must be integers or slices, not str",
      "\nDuring handling of the above exception, another exception occurred:\n",
      "\u001b[0;31mNameError\u001b[0m                                 Traceback (most recent call last)",
      "\u001b[0;32m<ipython-input-161-f26b5b455bf1>\u001b[0m in \u001b[0;36m<module>\u001b[0;34m()\u001b[0m\n\u001b[1;32m     28\u001b[0m \u001b[1;32mexcept\u001b[0m \u001b[0mTypeError\u001b[0m\u001b[1;33m:\u001b[0m\u001b[1;33m\u001b[0m\u001b[0m\n\u001b[1;32m     29\u001b[0m     \u001b[1;31m# The detail provides extra information about the exception.\u001b[0m\u001b[1;33m\u001b[0m\u001b[1;33m\u001b[0m\u001b[0m\n\u001b[0;32m---> 30\u001b[0;31m     \u001b[0mprint\u001b[0m \u001b[1;33m(\u001b[0m\u001b[1;34m\"\\nSome type mismatch:\"\u001b[0m\u001b[1;33m,\u001b[0m \u001b[0mdetail\u001b[0m\u001b[1;33m)\u001b[0m\u001b[1;33m\u001b[0m\u001b[0m\n\u001b[0m\u001b[1;32m     31\u001b[0m \u001b[1;32mexcept\u001b[0m \u001b[0mIndexError\u001b[0m\u001b[1;33m:\u001b[0m\u001b[1;33m\u001b[0m\u001b[0m\n\u001b[1;32m     32\u001b[0m     \u001b[0mprint\u001b[0m \u001b[1;33m(\u001b[0m\u001b[1;34m\"\\nSome value is out of range:\"\u001b[0m\u001b[1;33m,\u001b[0m \u001b[0mdetail\u001b[0m\u001b[1;33m)\u001b[0m\u001b[1;33m\u001b[0m\u001b[0m\n",
      "\u001b[0;31mNameError\u001b[0m: name 'detail' is not defined"
     ]
    }
   ],
   "source": [
    "#!/usr/bin/python\n",
    "\n",
    "# Python exception handling.\n",
    "\n",
    "# Choose two random integers.\n",
    "import random\n",
    "i = random.randrange(0, 8)\n",
    "j = random.randrange(-1, 6)\n",
    "print (i, j)\n",
    "\n",
    "# Get a nice little array, then try a bunch of dangerous stuff.\n",
    "some = [3, 10, 0, 8, 18];\n",
    "try:\n",
    "    # We try to execute this block.\n",
    "    den = some[j] / i\n",
    "    print (\"A:\", den)\n",
    "    frac = (i + j) / den\n",
    "    print (\"B:\", frac)\n",
    "    if frac < 2:\n",
    "        k = 3\n",
    "    else:\n",
    "        k = 'mike'\n",
    "    print (\"C:\", k)\n",
    "    print (\"D:\", some[k])\n",
    "# This is the catch block.\n",
    "except ZeroDivisionError:\n",
    "    print (\"\\nDivision by zero.\")\n",
    "except TypeError:\n",
    "    # The detail provides extra information about the exception.\n",
    "    print (\"\\nSome type mismatch:\", detail)\n",
    "except IndexError:\n",
    "    print (\"\\nSome value is out of range:\", detail)\n",
    "except:\n",
    "    # Except without an exception name catches any exception.\n",
    "    print (\"\\nSomething else went wrong.\")\n",
    "\n",
    "# An else attached to an except block is run if no exception occurrs.\n",
    "else:\n",
    "    print (\"\\nThat's odd, nothing went wrong.\")\n",
    "    \n"
   ]
  },
  {
   "cell_type": "code",
   "execution_count": 167,
   "metadata": {
    "collapsed": false,
    "scrolled": true
   },
   "outputs": [
    {
     "ename": "SyntaxError",
     "evalue": "invalid syntax (<ipython-input-167-5f3c38530bc4>, line 21)",
     "output_type": "error",
     "traceback": [
      "\u001b[0;36m  File \u001b[0;32m\"<ipython-input-167-5f3c38530bc4>\"\u001b[0;36m, line \u001b[0;32m21\u001b[0m\n\u001b[0;31m    def __init__(self.name):\u001b[0m\n\u001b[0m                     ^\u001b[0m\n\u001b[0;31mSyntaxError\u001b[0m\u001b[0;31m:\u001b[0m invalid syntax\n"
     ]
    }
   ],
   "source": [
    "try:\n",
    "    file = open(\"some_file.txt\")\n",
    "    data = file.read()\n",
    "except IOError:\n",
    "    print (\"\\nCould not read file:\")\n",
    "else:\n",
    "    print (\"Read successfully, file contents:\")\n",
    "    print (data)\n",
    "finally:\n",
    "    # this always gets called, close the file if it's open\n",
    "    if not file.closed:\n",
    "        file.close()\n",
    "with open(\"some_file.txt\") as file:\n",
    "    data = file.read()\n",
    "    print (\"Read successfully, file contents:\")\n",
    "    print (data)\n",
    "print (file.closed)\n",
    "\n",
    "\n",
    "class BodyPart(object):\n",
    "    def __init__(self.name):\n",
    "        self.name = name\n",
    "        print ('1. Just initialized body part with name', name)\n",
    "    def __enter__(self):\n",
    "        print ('2. Building up from \"with\" command')\n",
    "        return self\n",
    "    def __exit__(self, type, value, traceback):\n",
    "        if value is not None:\n",
    "            print ('4. An error occurred,', value)\n",
    "        else:\n",
    "            print ('4. Exit was called, no errors')\n",
    "\n",
    "def print_self(self):\n",
    "    print ('3. Hi, my name is:', self.name)\n",
    "\n",
    "with BodyPart(\"Lungs\") as bp:\n",
    "    bp.print_self()\n"
   ]
  },
  {
   "cell_type": "code",
   "execution_count": 168,
   "metadata": {
    "collapsed": false,
    "scrolled": true
   },
   "outputs": [
    {
     "name": "stdout",
     "output_type": "stream",
     "text": [
      "code took 2.001 sec. to run\n"
     ]
    }
   ],
   "source": [
    "import time\n",
    "class Timer:\n",
    "    def __enter__(self):\n",
    "        self.start=time.time()\n",
    "        return self\n",
    "    def __exit__(self,*args):\n",
    "        self.end=time.time()\n",
    "        self.interval=self.end-self.start\n",
    "        print('code took %.03f sec. to run' % self.interval)\n",
    "with Timer() as t:\n",
    "    time.sleep(2)"
   ]
  },
  {
   "cell_type": "code",
   "execution_count": null,
   "metadata": {
    "collapsed": false
   },
   "outputs": [],
   "source": []
  },
  {
   "cell_type": "code",
   "execution_count": 172,
   "metadata": {
    "collapsed": false
   },
   "outputs": [
    {
     "name": "stdout",
     "output_type": "stream",
     "text": [
      "0.999874127674\n",
      "-1.22464679915e-16\n"
     ]
    }
   ],
   "source": [
    "import numpy as np\n",
    "t = np.linspace(0, 1, 100)  # 100 equally spaced array of numbers from 0.0 to 1\n",
    "y = np.sin(2 * np.pi * t)  # take sine of the value\n",
    "\n",
    "print (np.max(y))\n",
    "print (np.median(y))"
   ]
  },
  {
   "cell_type": "code",
   "execution_count": 173,
   "metadata": {
    "collapsed": false
   },
   "outputs": [
    {
     "data": {
      "image/png": "[encoded data removed]",
      "text/plain": [
       "<matplotlib.figure.Figure at 0x783e710>"
      ]
     },
     "metadata": {},
     "output_type": "display_data"
    }
   ],
   "source": [
    "%matplotlib inline\n",
    "\n",
    "#============================================\n",
    "# plotting example\n",
    "from matplotlib import pyplot as plt\n",
    "\n",
    "plt.plot(t, y)  # plot them\n",
    "plt.show()"
   ]
  },
  {
   "cell_type": "code",
   "execution_count": null,
   "metadata": {
    "collapsed": true
   },
   "outputs": [],
   "source": []
  },
  {
   "cell_type": "code",
   "execution_count": null,
   "metadata": {
    "collapsed": true
   },
   "outputs": [],
   "source": []
  },
  {
   "cell_type": "code",
   "execution_count": null,
   "metadata": {
    "collapsed": true
   },
   "outputs": [],
   "source": []
  },
  {
   "cell_type": "code",
   "execution_count": 174,
   "metadata": {
    "collapsed": false
   },
   "outputs": [
    {
     "name": "stdout",
     "output_type": "stream",
     "text": [
      "2.6.0\n"
     ]
    }
   ],
   "source": [
    "import sqlite3\n",
    "\n",
    "print (sqlite3.version)"
   ]
  },
  {
   "cell_type": "code",
   "execution_count": 175,
   "metadata": {
    "collapsed": true
   },
   "outputs": [],
   "source": [
    "%matplotlib inline"
   ]
  },
  {
   "cell_type": "code",
   "execution_count": 176,
   "metadata": {
    "collapsed": false
   },
   "outputs": [
    {
     "name": "stdout",
     "output_type": "stream",
     "text": [
      "> <ipython-input-176-25daee69af4d>(4)<module>()\n",
      "-> for i in range(0,5):\n",
      "(Pdb) j\n",
      "*** The 'jump' command requires a line number\n",
      "(Pdb) i\n",
      "0\n",
      "(Pdb) print (j)\n",
      "0\n",
      "(Pdb) s\n",
      "> <ipython-input-176-25daee69af4d>(5)<module>()\n",
      "-> j += 5*i\n",
      "(Pdb) s\n",
      "> <ipython-input-176-25daee69af4d>(6)<module>()\n",
      "-> pdb.set_trace()\n",
      "(Pdb) c\n",
      "> <ipython-input-176-25daee69af4d>(4)<module>()\n",
      "-> for i in range(0,5):\n",
      "(Pdb) print (j)\n",
      "5\n",
      "(Pdb) c\n",
      "> <ipython-input-176-25daee69af4d>(4)<module>()\n",
      "-> for i in range(0,5):\n",
      "(Pdb) c\n",
      "> <ipython-input-176-25daee69af4d>(4)<module>()\n",
      "-> for i in range(0,5):\n",
      "(Pdb) c\n",
      "> <ipython-input-176-25daee69af4d>(4)<module>()\n",
      "-> for i in range(0,5):\n",
      "(Pdb) c\n",
      "50\n"
     ]
    }
   ],
   "source": [
    "import pdb\n",
    "\n",
    "j = 0\n",
    "for i in range(0,5):\n",
    "    j += 5*i\n",
    "    pdb.set_trace()\n",
    "    \n",
    "print (j)"
   ]
  },
  {
   "cell_type": "code",
   "execution_count": null,
   "metadata": {
    "collapsed": true
   },
   "outputs": [],
   "source": []
  }
 ],
 "metadata": {
  "kernelspec": {
   "display_name": "Python 3",
   "language": "python",
   "name": "python3"
  },
  "language_info": {
   "codemirror_mode": {
    "name": "ipython",
    "version": 3
   },
   "file_extension": ".py",
   "mimetype": "text/x-python",
   "name": "python",
   "nbconvert_exporter": "python",
   "pygments_lexer": "ipython3",
   "version": "3.6.0"
  }
 },
 "nbformat": 4,
 "nbformat_minor": 2
}
